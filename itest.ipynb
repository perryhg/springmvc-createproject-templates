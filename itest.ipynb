{
 "cells": [
  {
   "cell_type": "code",
   "execution_count": null,
   "id": "56c4a2cb",
   "metadata": {},
   "outputs": [],
   "source": [
    "import os\n",
    "import zipfile\n",
    "import glob"
   ]
  },
  {
   "cell_type": "code",
   "execution_count": 1,
   "id": "91112f7a",
   "metadata": {},
   "outputs": [],
   "source": [
    "from pathlib import Path"
   ]
  },
  {
   "cell_type": "code",
   "execution_count": 12,
   "id": "cd46f6fd",
   "metadata": {},
   "outputs": [],
   "source": [
    "Path(\"template.zip\").unlink()\n",
    "Path(\"template.xml\").unlink()\n",
    "Path(\"wizard.json\").unlink()"
   ]
  },
  {
   "cell_type": "code",
   "execution_count": 4,
   "id": "a9cf78c5",
   "metadata": {},
   "outputs": [],
   "source": [
    "def zip_directory(folder_path):\n",
    "    \"\"\"\n",
    "    将指定目录打包成一个同名的 zip 文件（位于当前目录）。\n",
    "\n",
    "    参数:\n",
    "        folder_path (str): 要压缩的目录路径\n",
    "    \"\"\"\n",
    "    # 检查目录是否存在\n",
    "    if not os.path.exists(folder_path):\n",
    "        print(f\"错误：目录 '{folder_path}' 不存在。\")\n",
    "        return\n",
    "\n",
    "    if not os.path.isdir(folder_path):\n",
    "        print(f\"错误：'{folder_path}' 不是一个目录。\")\n",
    "        return\n",
    "\n",
    "    # 获取目录的绝对路径和名称\n",
    "    folder_path = os.path.abspath(folder_path)\n",
    "    folder_name = os.path.basename(folder_path)\n",
    "\n",
    "    # ZIP 文件名与目录名相同，生成在当前工作目录下\n",
    "    zip_filename = f\"{folder_name}.zip\"\n",
    "    zip_filepath = os.path.join(os.getcwd(), zip_filename)\n",
    "\n",
    "    try:\n",
    "        with zipfile.ZipFile(zip_filepath, 'w', zipfile.ZIP_DEFLATED) as zipf:\n",
    "            print(f\"正在创建 '{zip_filename}' ...\")\n",
    "            # 遍历目录及其子目录\n",
    "            for root, dirs, files in os.walk(folder_path):\n",
    "                # 计算相对路径的根目录（用于在 zip 中保持目录结构）\n",
    "                relative_root = os.path.relpath(root, folder_path)\n",
    "                if relative_root == \".\":\n",
    "                    relative_root = \"\"  # 根目录下文件直接放入 zip 根\n",
    "\n",
    "                # 写入每个文件\n",
    "                for file in files:\n",
    "                    file_path = os.path.join(root, file)\n",
    "                    # 在 zip 中的路径\n",
    "                    arcname = os.path.join(folder_name, relative_root, file)\n",
    "                    zipf.write(file_path, arcname)\n",
    "\n",
    "        print(f\"打包完成：'{zip_filepath}'\")\n",
    "    except Exception as e:\n",
    "        print(f\"打包过程中发生错误：{e}\")\n",
    "\n",
    "# 使用示例：\n",
    "# zip_directory('my_folder')"
   ]
  },
  {
   "cell_type": "code",
   "execution_count": 18,
   "id": "5cdf0cc7",
   "metadata": {},
   "outputs": [
    {
     "name": "stdout",
     "output_type": "stream",
     "text": [
      "正在创建 'template.zip' ...\n",
      "打包完成：'d:\\dev\\github\\springmvc-createproject-templates\\template.zip'\n"
     ]
    }
   ],
   "source": [
    "zip_directory('template')"
   ]
  },
  {
   "cell_type": "code",
   "execution_count": 7,
   "id": "1fba5cf4",
   "metadata": {},
   "outputs": [],
   "source": [
    "import xml.etree.ElementTree as ET\n",
    "import os\n",
    "\n",
    "def get_descriptor_version(xml_file_path):\n",
    "    \"\"\"\n",
    "    从指定的 XML 文件中查找 descriptor 节点，并返回其 version 属性。\n",
    "\n",
    "    参数:\n",
    "        xml_file_path (str): XML 文件的路径\n",
    "\n",
    "    返回:\n",
    "        str 或 None: 如果找到 version 属性则返回其值，否则返回 None\n",
    "    \"\"\"\n",
    "    # 检查文件是否存在\n",
    "    if not os.path.exists(xml_file_path):\n",
    "        print(f\"错误：文件 '{xml_file_path}' 不存在。\")\n",
    "        return None\n",
    "\n",
    "    try:\n",
    "        # 解析 XML 文件\n",
    "        tree = ET.parse(xml_file_path)\n",
    "        root = tree.getroot()\n",
    "\n",
    "        # 查找 descriptor 节点\n",
    "        descriptor = root.find('descriptor')\n",
    "        if descriptor is not None:\n",
    "            version = descriptor.get('version')\n",
    "            if version:\n",
    "                return version\n",
    "            else:\n",
    "                print(\"警告：descriptor 节点存在，但没有 'version' 属性。\")\n",
    "                return None\n",
    "        else:\n",
    "            print(\"警告：XML 文件中未找到 'descriptor' 节点。\")\n",
    "            return None\n",
    "\n",
    "    except ET.ParseError as e:\n",
    "        print(f\"XML 解析失败：{e}\")\n",
    "        return None\n",
    "    except Exception as e:\n",
    "        print(f\"读取文件时发生错误：{e}\")\n",
    "        return None\n",
    "\n",
    "# 使用示例：\n",
    "# version = get_descriptor_version('template.xml')\n",
    "# if version:\n",
    "#     print(f\"descriptor version: {version}\")"
   ]
  },
  {
   "cell_type": "code",
   "execution_count": null,
   "id": "b3aa8cb8",
   "metadata": {},
   "outputs": [
    {
     "data": {
      "text/plain": [
       "'1.1.16'"
      ]
     },
     "execution_count": 8,
     "metadata": {},
     "output_type": "execute_result"
    }
   ],
   "source": [
    "#1.1.16\n",
    "get_descriptor_version('template.xml')"
   ]
  },
  {
   "cell_type": "code",
   "execution_count": null,
   "id": "84f57e9f",
   "metadata": {},
   "outputs": [],
   "source": [
    "def update_descriptor_version(xml_file_path, new_version):\n",
    "    \"\"\"\n",
    "    更新指定 XML 文件中 descriptor 节点的 version 属性。\n",
    "\n",
    "    参数:\n",
    "        xml_file_path (str): XML 文件的路径\n",
    "        new_version (str): 要设置的新 version 值\n",
    "\n",
    "    返回:\n",
    "        bool: 更新成功返回 True，否则返回 False\n",
    "    \"\"\"\n",
    "    # 检查文件是否存在\n",
    "    if not os.path.exists(xml_file_path):\n",
    "        print(f\"错误：文件 '{xml_file_path}' 不存在。\")\n",
    "        return False\n",
    "\n",
    "    try:\n",
    "        # 解析 XML 文件\n",
    "        tree = ET.parse(xml_file_path)\n",
    "        root = tree.getroot()\n",
    "\n",
    "        # 查找 descriptor 节点\n",
    "        descriptor = root.find('descriptor')\n",
    "        if descriptor is not None:\n",
    "            old_version = descriptor.get('version')\n",
    "            # 更新 version 属性\n",
    "            descriptor.set('version', new_version)\n",
    "            # 保存回原文件\n",
    "            tree.write(xml_file_path, encoding='UTF-8', xml_declaration=True)\n",
    "            print(f\"成功更新 version：'{old_version}' → '{new_version}'\")\n",
    "            return True\n",
    "        else:\n",
    "            print(\"错误：XML 文件中未找到 'descriptor' 节点。\")\n",
    "            return False\n",
    "\n",
    "    except ET.ParseError as e:\n",
    "        print(f\"XML 解析失败：{e}\")\n",
    "        return False\n",
    "    except Exception as e:\n",
    "        print(f\"更新文件时发生错误：{e}\")\n",
    "        return False\n",
    "\n",
    "    # 使用示例：\n",
    "    # update_descriptor_version('template.xml', '1.2.0')"
   ]
  },
  {
   "cell_type": "code",
   "execution_count": 10,
   "id": "123ac425",
   "metadata": {},
   "outputs": [
    {
     "name": "stdout",
     "output_type": "stream",
     "text": [
      "成功更新 version：'1.1.16' → '1.1.17'\n"
     ]
    },
    {
     "data": {
      "text/plain": [
       "True"
      ]
     },
     "execution_count": 10,
     "metadata": {},
     "output_type": "execute_result"
    }
   ],
   "source": [
    "update_descriptor_version('template.xml', '1.1.17')"
   ]
  },
  {
   "cell_type": "code",
   "execution_count": 11,
   "id": "f17ef97f",
   "metadata": {},
   "outputs": [
    {
     "data": {
      "text/plain": [
       "'1.1.17'"
      ]
     },
     "execution_count": 11,
     "metadata": {},
     "output_type": "execute_result"
    }
   ],
   "source": [
    "get_descriptor_version('template.xml')"
   ]
  },
  {
   "cell_type": "code",
   "execution_count": null,
   "id": "54f73ede",
   "metadata": {},
   "outputs": [],
   "source": [
    "import zipfile\n",
    "import os\n",
    "\n",
    "# 全局变量\n",
    "GLOBAL_zipfilename = 'springmvc4.templates.1.1.0.zip'\n",
    "GLOBAL_zipEntryNames = ['template.xml', 'template.zip', 'wizard.json']\n",
    "\n",
    "def create_zip_package():\n",
    "    \"\"\"\n",
    "    将 GLOBAL_zipEntryNames 中的文件打包为 GLOBAL_zipfilename 指定的 zip 文件。\n",
    "    \"\"\"\n",
    "    # 检查是否有文件需要打包\n",
    "    if not GLOBAL_zipEntryNames:\n",
    "        print(\"错误：没有指定要打包的文件。\")\n",
    "        return False\n",
    "\n",
    "    # 准备 ZIP 文件路径（在当前目录下）\n",
    "    zip_path = GLOBAL_zipfilename\n",
    "\n",
    "    try:\n",
    "        with zipfile.ZipFile(zip_path, 'w', zipfile.ZIP_DEFLATED) as zipf:\n",
    "            for file_name in GLOBAL_zipEntryNames:\n",
    "                if os.path.isfile(file_name):\n",
    "                    print(f\"正在添加文件: {file_name}\")\n",
    "                    # 在 ZIP 中保持原始文件名，不包含路径\n",
    "                    zipf.write(file_name, arcname=file_name)\n",
    "                else:\n",
    "                    print(f\"错误：文件 '{file_name}' 不存在或不是文件，跳过。\")\n",
    "                    return False  # 可选：改为 continue 如果允许部分文件缺失\n",
    "\n",
    "        print(f\"✅ 打包成功：'{zip_path}' 已创建，包含 {len(GLOBAL_zipEntryNames)} 个文件。\")\n",
    "        return True\n",
    "\n",
    "    except Exception as e:\n",
    "        print(f\"❌ 打包过程中发生错误：{e}\")\n",
    "        return False\n",
    "\n"
   ]
  },
  {
   "cell_type": "code",
   "execution_count": 19,
   "id": "d1f2581a",
   "metadata": {},
   "outputs": [
    {
     "name": "stdout",
     "output_type": "stream",
     "text": [
      "正在添加文件: template.xml\n",
      "正在添加文件: template.zip\n",
      "正在添加文件: wizard.json\n",
      "✅ 打包成功：'springmvc4.templates.1.1.0.zip' 已创建，包含 3 个文件。\n"
     ]
    },
    {
     "data": {
      "text/plain": [
       "True"
      ]
     },
     "execution_count": 19,
     "metadata": {},
     "output_type": "execute_result"
    }
   ],
   "source": [
    "# 调用函数\n",
    "create_zip_package()"
   ]
  },
  {
   "cell_type": "code",
   "execution_count": 16,
   "id": "70de7e16",
   "metadata": {},
   "outputs": [
    {
     "ename": "FileNotFoundError",
     "evalue": "[WinError 2] 系统找不到指定的文件。: 'template.zip'",
     "output_type": "error",
     "traceback": [
      "\u001b[1;31m---------------------------------------------------------------------------\u001b[0m",
      "\u001b[1;31mFileNotFoundError\u001b[0m                         Traceback (most recent call last)",
      "Cell \u001b[1;32mIn[16], line 1\u001b[0m\n\u001b[1;32m----> 1\u001b[0m \u001b[43mPath\u001b[49m\u001b[43m(\u001b[49m\u001b[38;5;124;43m\"\u001b[39;49m\u001b[38;5;124;43mtemplate.zip\u001b[39;49m\u001b[38;5;124;43m\"\u001b[39;49m\u001b[43m)\u001b[49m\u001b[38;5;241;43m.\u001b[39;49m\u001b[43munlink\u001b[49m\u001b[43m(\u001b[49m\u001b[43m)\u001b[49m\n",
      "File \u001b[1;32mc:\\Users\\PC\\AppData\\Local\\Programs\\Python\\Python310\\lib\\pathlib.py:1206\u001b[0m, in \u001b[0;36mPath.unlink\u001b[1;34m(self, missing_ok)\u001b[0m\n\u001b[0;32m   1201\u001b[0m \u001b[38;5;250m\u001b[39m\u001b[38;5;124;03m\"\"\"\u001b[39;00m\n\u001b[0;32m   1202\u001b[0m \u001b[38;5;124;03mRemove this file or link.\u001b[39;00m\n\u001b[0;32m   1203\u001b[0m \u001b[38;5;124;03mIf the path is a directory, use rmdir() instead.\u001b[39;00m\n\u001b[0;32m   1204\u001b[0m \u001b[38;5;124;03m\"\"\"\u001b[39;00m\n\u001b[0;32m   1205\u001b[0m \u001b[38;5;28;01mtry\u001b[39;00m:\n\u001b[1;32m-> 1206\u001b[0m     \u001b[38;5;28;43mself\u001b[39;49m\u001b[38;5;241;43m.\u001b[39;49m\u001b[43m_accessor\u001b[49m\u001b[38;5;241;43m.\u001b[39;49m\u001b[43munlink\u001b[49m\u001b[43m(\u001b[49m\u001b[38;5;28;43mself\u001b[39;49m\u001b[43m)\u001b[49m\n\u001b[0;32m   1207\u001b[0m \u001b[38;5;28;01mexcept\u001b[39;00m \u001b[38;5;167;01mFileNotFoundError\u001b[39;00m:\n\u001b[0;32m   1208\u001b[0m     \u001b[38;5;28;01mif\u001b[39;00m \u001b[38;5;129;01mnot\u001b[39;00m missing_ok:\n",
      "\u001b[1;31mFileNotFoundError\u001b[0m: [WinError 2] 系统找不到指定的文件。: 'template.zip'"
     ]
    }
   ],
   "source": [
    "Path(\"template.zip\").unlink()"
   ]
  },
  {
   "cell_type": "code",
   "execution_count": 17,
   "id": "ca55c9fc",
   "metadata": {},
   "outputs": [],
   "source": [
    "Path(GLOBAL_zipfilename).unlink()"
   ]
  },
  {
   "cell_type": "code",
   "execution_count": null,
   "id": "e9189eb2",
   "metadata": {},
   "outputs": [],
   "source": [
    "def update_descriptor_by_id(xml_file_path, new_size, new_version):\n",
    "    \"\"\"\n",
    "    查找 id=\"springmvc41.template\" 的 descriptor 节点，\n",
    "    并更新其 size 和 version 属性。\n",
    "\n",
    "    参数:\n",
    "        xml_file_path (str): XML 文件路径\n",
    "        new_size (str 或 int): 新的 size 值\n",
    "        new_version (str): 新的 version 值\n",
    "\n",
    "    返回:\n",
    "        bool: 成功更新返回 True，否则返回 False\n",
    "    \"\"\"\n",
    "    # 转换为字符串\n",
    "    new_size = str(new_size)\n",
    "    new_version = str(new_version)\n",
    "\n",
    "    # 检查文件是否存在\n",
    "    if not os.path.exists(xml_file_path):\n",
    "        print(f\"错误：文件 '{xml_file_path}' 不存在。\")\n",
    "        return False\n",
    "\n",
    "    try:\n",
    "        # 解析 XML\n",
    "        tree = ET.parse(xml_file_path)\n",
    "        root = tree.getroot()\n",
    "\n",
    "        # 查找 id=\"springmvc41.template\" 的 descriptor 节点\n",
    "        found = False\n",
    "        for descriptor in root.findall('descriptor'):\n",
    "            if descriptor.get('id') == 'springmvc41.template':\n",
    "                # 获取旧值用于输出\n",
    "                old_size = descriptor.get('size', 'N/A')\n",
    "                old_version = descriptor.get('version', 'N/A')\n",
    "\n",
    "                # 更新属性\n",
    "                descriptor.set('size', new_size)\n",
    "                descriptor.set('version', new_version)\n",
    "\n",
    "                # 保存文件\n",
    "                tree.write(xml_file_path, encoding='UTF-8', xml_declaration=True)\n",
    "                print(f\"成功更新 descriptor (id='springmvc41.template'):\")\n",
    "                print(f\"  size:   '{old_size}' -> '{new_size}'\")\n",
    "                print(f\"  version: '{old_version}' -> '{new_version}'\")\n",
    "                found = True\n",
    "                break  # 假设只有一个匹配节点\n",
    "\n",
    "        if not found:\n",
    "            print(\"警告：未找到 id='springmvc41.template' 的 descriptor 节点。\")\n",
    "            return False\n",
    "\n",
    "        return True\n",
    "\n",
    "    except ET.ParseError as e:\n",
    "        print(f\"XML 解析失败：{e}\")\n",
    "        return False\n",
    "    except Exception as e:\n",
    "        print(f\"更新过程中发生错误：{e}\")\n",
    "        return False\n",
    "\n",
    "    # 使用示例：\n",
    "    # update_descriptor_size('descriptors.xml', 135000， '1.1.17')"
   ]
  },
  {
   "cell_type": "code",
   "execution_count": 20,
   "id": "99188cf5",
   "metadata": {},
   "outputs": [],
   "source": [
    "def get_file_size_safe(file_path):\n",
    "    path = Path(file_path)\n",
    "    if not path.is_file():\n",
    "        print(f\"错误：'{file_path}' 不是一个文件或不存在。\")\n",
    "        return None\n",
    "    return path.stat().st_size"
   ]
  },
  {
   "cell_type": "code",
   "execution_count": 23,
   "id": "a364ef0c",
   "metadata": {},
   "outputs": [
    {
     "data": {
      "text/plain": [
       "134199"
      ]
     },
     "execution_count": 23,
     "metadata": {},
     "output_type": "execute_result"
    }
   ],
   "source": [
    "get_file_size_safe('template.zip')"
   ]
  },
  {
   "cell_type": "code",
   "execution_count": 24,
   "id": "6bfa865e",
   "metadata": {},
   "outputs": [
    {
     "data": {
      "text/plain": [
       "130500"
      ]
     },
     "execution_count": 24,
     "metadata": {},
     "output_type": "execute_result"
    }
   ],
   "source": [
    "get_file_size_safe(GLOBAL_zipfilename)"
   ]
  }
 ],
 "metadata": {
  "kernelspec": {
   "display_name": "Python 3",
   "language": "python",
   "name": "python3"
  },
  "language_info": {
   "codemirror_mode": {
    "name": "ipython",
    "version": 3
   },
   "file_extension": ".py",
   "mimetype": "text/x-python",
   "name": "python",
   "nbconvert_exporter": "python",
   "pygments_lexer": "ipython3",
   "version": "3.10.11"
  }
 },
 "nbformat": 4,
 "nbformat_minor": 5
}
